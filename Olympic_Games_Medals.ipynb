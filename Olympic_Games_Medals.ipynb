{
 "cells": [
  {
   "cell_type": "markdown",
   "metadata": {},
   "source": [
    "# All Time Olympic Games Medals"
   ]
  },
  {
   "cell_type": "markdown",
   "metadata": {},
   "source": [
    "### Business Understanding"
   ]
  },
  {
   "cell_type": "markdown",
   "metadata": {},
   "source": [
    "The Olympic Games is an important international event held every four years. In this analysis we will be interested for all Olympic Games from 1896 to 2018. We will try answering the following questions :\n",
    "\n",
    "1) Which country has won the most gold medals in summer games ?\n",
    "\n",
    "2) Which country had the biggest difference between their summer and winter gold medal counts ?\n",
    "\n",
    "3) Which country has the biggest difference between their summer gold medal counts and winter gold medal counts relative to their total gold medal count ?\n",
    "\n",
    "4) Which are the top 5 countries if we weights each gold medal for 3 points, silver medals for 2 points, and bronze medals for 1 point ?"
   ]
  },
  {
   "cell_type": "markdown",
   "metadata": {},
   "source": [
    "### Data Understanding and Data Preparation"
   ]
  },
  {
   "cell_type": "markdown",
   "metadata": {},
   "source": [
    "\n",
    "\n",
    "The following code loads the olympics dataset (olympics.csv), which was derrived from the Wikipedia entry on All Time Olympic Games Medals, and does some basic data cleaning.\n",
    "\n",
    "The columns are organized as # of Summer games, Summer medals, # of Winter games, Winter medals, total # number of games, total # of medals."
   ]
  },
  {
   "cell_type": "code",
   "execution_count": null,
   "metadata": {},
   "outputs": [],
   "source": [
    "#import necessary libraries\n",
    "import pandas as pd\n",
    "import matplotlib.pyplot as plt\n",
    "%matplotlib notebook"
   ]
  },
  {
   "cell_type": "code",
   "execution_count": null,
   "metadata": {},
   "outputs": [],
   "source": [
    "# read the dataset an make some cleaning and store in 'df'\n",
    "df = pd.read_csv('olympics.csv', index_col=0, skiprows=1)\n",
    "\n",
    "# renaming columns to make it more readable\n",
    "for col in df.columns:\n",
    "    if col[:2]=='01':\n",
    "        df.rename(columns={col:'Gold'+col[4:]}, inplace=True)\n",
    "    if col[:2]=='02':\n",
    "        df.rename(columns={col:'Silver'+col[4:]}, inplace=True)\n",
    "    if col[:2]=='03':\n",
    "        df.rename(columns={col:'Bronze'+col[4:]}, inplace=True)\n",
    "    if col[:1]=='№':\n",
    "        df.rename(columns={col:'#'+col[1:]}, inplace=True)\n",
    "\n",
    "names_ids = df.index.str.split('\\s\\(') # split the index by '('\n",
    "\n",
    "df.index = names_ids.str[0] # the [0] element is the country name (new index) \n",
    "df['ID'] = names_ids.str[1].str[:3] # the [1] element is the abbreviation or ID (take first 3 characters from that)\n",
    "\n",
    "df = df.drop('Totals')\n",
    "#display first five rows of the dataset\n",
    "df.head()"
   ]
  },
  {
   "cell_type": "code",
   "execution_count": 19,
   "metadata": {},
   "outputs": [
    {
     "data": {
      "text/plain": [
       "# Summer          0\n",
       "Gold              0\n",
       "Silver            0\n",
       "Bronze            0\n",
       "Total             0\n",
       "# Winter          0\n",
       "Gold.1            0\n",
       "Silver.1          0\n",
       "Bronze.1          0\n",
       "Total.1           0\n",
       "# Games           0\n",
       "Gold.2            0\n",
       "Silver.2          0\n",
       "Bronze.2          0\n",
       "Combined total    0\n",
       "ID                0\n",
       "dtype: int64"
      ]
     },
     "execution_count": 19,
     "metadata": {},
     "output_type": "execute_result"
    }
   ],
   "source": [
    "# note : that there is no missing values\n",
    "df.isnull().sum()"
   ]
  },
  {
   "cell_type": "code",
   "execution_count": 22,
   "metadata": {},
   "outputs": [
    {
     "data": {
      "text/plain": [
       "(146, 16)"
      ]
     },
     "execution_count": 22,
     "metadata": {},
     "output_type": "execute_result"
    }
   ],
   "source": [
    "# df shape\n",
    "df.shape"
   ]
  },
  {
   "cell_type": "markdown",
   "metadata": {},
   "source": [
    "### Answer Questions\n"
   ]
  },
  {
   "cell_type": "markdown",
   "metadata": {},
   "source": [
    "## Question 1\n",
    "\n",
    "Which country has won the most gold medals in summer games ?"
   ]
  },
  {
   "cell_type": "code",
   "execution_count": null,
   "metadata": {},
   "outputs": [],
   "source": []
  },
  {
   "cell_type": "code",
   "execution_count": null,
   "metadata": {},
   "outputs": [],
   "source": [
    "def most_gold():\n",
    "    '''\n",
    "    This function has no inputs and returns a coutry name as a string. \n",
    "    '''\n",
    "    \n",
    "    return df['Gold'].idxmax()\n",
    "\n",
    "most_gold()"
   ]
  },
  {
   "cell_type": "markdown",
   "metadata": {},
   "source": [
    "## Question 2\n",
    "\n",
    "Which country had the biggest difference between their summer and winter gold medal counts ?"
   ]
  },
  {
   "cell_type": "code",
   "execution_count": null,
   "metadata": {},
   "outputs": [],
   "source": [
    "def biggest_diff():\n",
    "    '''\n",
    "    This function has no inputs and returns a coutry name as a string.  \n",
    "    '''\n",
    "    \n",
    "    return (df['Gold'] - df['Gold.1']).abs().idxmax()\n",
    "\n",
    "biggest_diff()"
   ]
  },
  {
   "cell_type": "markdown",
   "metadata": {},
   "source": [
    "## Question 3\n",
    "\n",
    "Which country has the biggest difference between their summer gold medal counts and winter gold medal counts relative to their total gold medal count ? \n",
    "\n",
    "(This includes countries that have won at least 1 gold in both summer and winter)"
   ]
  },
  {
   "cell_type": "code",
   "execution_count": null,
   "metadata": {},
   "outputs": [],
   "source": [
    "def relative_biggest_diff():\n",
    "    '''\n",
    "    This function has no inputs and returns a coutry name as a string.  \n",
    "    '''\n",
    "    \n",
    "    new_df = df[(df['Gold']>0) & (df['Gold.1']>0)]\n",
    "    \n",
    "    return ((new_df['Gold'] - new_df['Gold.1']).abs()/new_df['Gold.2']).idxmax() \n",
    "    \n",
    "relative_biggest_diff()"
   ]
  },
  {
   "cell_type": "markdown",
   "metadata": {},
   "source": [
    "## Question 4\n",
    "\n",
    "Which are the top 5 countries if we weights each gold medal for 3 points, silver medals for 2 points, and bronze medals for 1 point ?"
   ]
  },
  {
   "cell_type": "code",
   "execution_count": null,
   "metadata": {},
   "outputs": [],
   "source": [
    "def top_five():\n",
    "    '''\n",
    "    This function has no inputs and returns a pandas Series with the top 5 countries as index and their scores as values.  \n",
    "    '''\n",
    "    \n",
    "    return (df['Gold.2']*3 + df['Silver.2']*2 + df['Bronze.2']).sort_values(ascending=False)[:5]\n",
    "\n",
    "top5 = top_five()\n",
    "    \n",
    "# make  a plot\n",
    "fig, ax = plt.subplots(figsize=(10,6))\n",
    "bars = plt.bar(top5.index, top5)\n",
    "ax.set_title('Top five countries in Olympic Games (weighted medals)\\n Gold = 3pts, Silver = 2pts and Bronze = 1pt')\n",
    "ax.spines['right'].set_visible(False)\n",
    "ax.spines['top'].set_visible(False)\n",
    "plt.gca().axes.get_yaxis().set_ticks([])\n",
    "ax.tick_params(bottom=False)\n",
    "\n",
    "for bar in bars:\n",
    "    height = bar.get_height()\n",
    "    ax.text(bar.get_x() + bar.get_width()/2., height,'%d' % int(height), ha='center', va='bottom')"
   ]
  }
 ],
 "metadata": {
  "kernelspec": {
   "display_name": "Python 3",
   "language": "python",
   "name": "python3"
  },
  "language_info": {
   "codemirror_mode": {
    "name": "ipython",
    "version": 3
   },
   "file_extension": ".py",
   "mimetype": "text/x-python",
   "name": "python",
   "nbconvert_exporter": "python",
   "pygments_lexer": "ipython3",
   "version": "3.7.4"
  }
 },
 "nbformat": 4,
 "nbformat_minor": 2
}
